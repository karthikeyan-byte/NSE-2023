{
 "cells": [
  {
   "cell_type": "code",
   "execution_count": 58,
   "metadata": {},
   "outputs": [],
   "source": [
    "import scipy.stats as stats"
   ]
  },
  {
   "cell_type": "code",
   "execution_count": 59,
   "metadata": {},
   "outputs": [],
   "source": [
    "import seaborn as sns\n",
    "import pandas as pd\n",
    "import numpy as np\n",
    "dataset=pd.read_csv(\"output.csv\")"
   ]
  },
  {
   "cell_type": "code",
   "execution_count": 60,
   "metadata": {},
   "outputs": [
    {
     "data": {
      "text/html": [
       "<div>\n",
       "<style scoped>\n",
       "    .dataframe tbody tr th:only-of-type {\n",
       "        vertical-align: middle;\n",
       "    }\n",
       "\n",
       "    .dataframe tbody tr th {\n",
       "        vertical-align: top;\n",
       "    }\n",
       "\n",
       "    .dataframe thead th {\n",
       "        text-align: right;\n",
       "    }\n",
       "</style>\n",
       "<table border=\"1\" class=\"dataframe\">\n",
       "  <thead>\n",
       "    <tr style=\"text-align: right;\">\n",
       "      <th></th>\n",
       "      <th>id</th>\n",
       "      <th>date</th>\n",
       "      <th>open</th>\n",
       "      <th>high</th>\n",
       "      <th>low</th>\n",
       "      <th>close</th>\n",
       "      <th>shares_traded</th>\n",
       "      <th>turnover</th>\n",
       "    </tr>\n",
       "  </thead>\n",
       "  <tbody>\n",
       "    <tr>\n",
       "      <th>0</th>\n",
       "      <td>1</td>\n",
       "      <td>2023-01-02</td>\n",
       "      <td>18131.70</td>\n",
       "      <td>18215.15</td>\n",
       "      <td>18086.50</td>\n",
       "      <td>18197.45</td>\n",
       "      <td>256073979.0</td>\n",
       "      <td>11793.06</td>\n",
       "    </tr>\n",
       "    <tr>\n",
       "      <th>1</th>\n",
       "      <td>2</td>\n",
       "      <td>2023-01-03</td>\n",
       "      <td>18163.20</td>\n",
       "      <td>18251.95</td>\n",
       "      <td>18149.80</td>\n",
       "      <td>18232.55</td>\n",
       "      <td>208699772.0</td>\n",
       "      <td>13680.91</td>\n",
       "    </tr>\n",
       "    <tr>\n",
       "      <th>2</th>\n",
       "      <td>3</td>\n",
       "      <td>2023-01-04</td>\n",
       "      <td>18230.65</td>\n",
       "      <td>18243.00</td>\n",
       "      <td>18020.60</td>\n",
       "      <td>18042.95</td>\n",
       "      <td>235162202.0</td>\n",
       "      <td>16687.71</td>\n",
       "    </tr>\n",
       "    <tr>\n",
       "      <th>3</th>\n",
       "      <td>4</td>\n",
       "      <td>2023-01-05</td>\n",
       "      <td>18101.95</td>\n",
       "      <td>18120.30</td>\n",
       "      <td>17892.60</td>\n",
       "      <td>17992.15</td>\n",
       "      <td>269949738.0</td>\n",
       "      <td>22108.53</td>\n",
       "    </tr>\n",
       "    <tr>\n",
       "      <th>4</th>\n",
       "      <td>5</td>\n",
       "      <td>2023-01-06</td>\n",
       "      <td>18008.05</td>\n",
       "      <td>18047.40</td>\n",
       "      <td>17795.55</td>\n",
       "      <td>17859.45</td>\n",
       "      <td>238220578.0</td>\n",
       "      <td>17495.25</td>\n",
       "    </tr>\n",
       "  </tbody>\n",
       "</table>\n",
       "</div>"
      ],
      "text/plain": [
       "   id        date      open      high       low     close  shares_traded  \\\n",
       "0   1  2023-01-02  18131.70  18215.15  18086.50  18197.45    256073979.0   \n",
       "1   2  2023-01-03  18163.20  18251.95  18149.80  18232.55    208699772.0   \n",
       "2   3  2023-01-04  18230.65  18243.00  18020.60  18042.95    235162202.0   \n",
       "3   4  2023-01-05  18101.95  18120.30  17892.60  17992.15    269949738.0   \n",
       "4   5  2023-01-06  18008.05  18047.40  17795.55  17859.45    238220578.0   \n",
       "\n",
       "   turnover  \n",
       "0  11793.06  \n",
       "1  13680.91  \n",
       "2  16687.71  \n",
       "3  22108.53  \n",
       "4  17495.25  "
      ]
     },
     "execution_count": 60,
     "metadata": {},
     "output_type": "execute_result"
    }
   ],
   "source": [
    "dataset.head()"
   ]
  },
  {
   "cell_type": "code",
   "execution_count": 61,
   "metadata": {},
   "outputs": [
    {
     "name": "stdout",
     "output_type": "stream",
     "text": [
      "open      16977.30  16984.30  16994.65  17031.75  17060.40  17066.60  \\\n",
      "low                                                                    \n",
      "16828.35         0         0         0         0         0        15   \n",
      "16850.15         0         0        15         0         0         0   \n",
      "16913.75         0         0         0        15         0         0   \n",
      "16917.35         0         0         0         0         0         0   \n",
      "16918.55         0        15         0         0         0         0   \n",
      "...            ...       ...       ...       ...       ...       ...   \n",
      "19758.40         0         0         0         0         0         0   \n",
      "19865.35         0         0         0         0         0         0   \n",
      "19914.65         0         0         0         0         0         0   \n",
      "19944.10         0         0         0         0         0         0   \n",
      "20043.45         0         0         0         0         0         0   \n",
      "\n",
      "open      17076.20  17097.40  17111.80  17160.55  ...  19784.00  19787.50  \\\n",
      "low                                               ...                       \n",
      "16828.35         0         0         0         0  ...         0         0   \n",
      "16850.15         0         0         0         0  ...         0         0   \n",
      "16913.75         0         0         0         0  ...         0         0   \n",
      "16917.35        15         0         0         0  ...         0         0   \n",
      "16918.55         0         0         0         0  ...         0         0   \n",
      "...            ...       ...       ...       ...  ...       ...       ...   \n",
      "19758.40         0         0         0         0  ...         0         0   \n",
      "19865.35         0         0         0         0  ...         0         0   \n",
      "19914.65         0         0         0         0  ...         0         0   \n",
      "19944.10         0         0         0         0  ...         0         0   \n",
      "20043.45         0         0         0         0  ...         0         0   \n",
      "\n",
      "open      19800.45  19802.95  19831.70  19850.90  19890.00  19989.50  \\\n",
      "low                                                                    \n",
      "16828.35         0         0         0         0         0         0   \n",
      "16850.15         0         0         0         0         0         0   \n",
      "16913.75         0         0         0         0         0         0   \n",
      "16917.35         0         0         0         0         0         0   \n",
      "16918.55         0         0         0         0         0         0   \n",
      "...            ...       ...       ...       ...       ...       ...   \n",
      "19758.40         0         0        15         0         0         0   \n",
      "19865.35         0         0         0         0        15         0   \n",
      "19914.65         0         0         0         0         0         0   \n",
      "19944.10         0         0         0         0         0        15   \n",
      "20043.45         0         0         0         0         0         0   \n",
      "\n",
      "open      20110.15  20127.95  \n",
      "low                           \n",
      "16828.35         0         0  \n",
      "16850.15         0         0  \n",
      "16913.75         0         0  \n",
      "16917.35         0         0  \n",
      "16918.55         0         0  \n",
      "...            ...       ...  \n",
      "19758.40         0         0  \n",
      "19865.35         0         0  \n",
      "19914.65        15         0  \n",
      "19944.10         0         0  \n",
      "20043.45         0        15  \n",
      "\n",
      "[175 rows x 175 columns]\n"
     ]
    }
   ],
   "source": [
    "dataset_table=pd.crosstab(dataset['low'],dataset['open'])\n",
    "print(dataset_table)"
   ]
  },
  {
   "cell_type": "code",
   "execution_count": 72,
   "metadata": {},
   "outputs": [
    {
     "name": "stdout",
     "output_type": "stream",
     "text": [
      "[[ 0  0  0 ...  0  0  0]\n",
      " [ 0  0 15 ...  0  0  0]\n",
      " [ 0  0  0 ...  0  0  0]\n",
      " ...\n",
      " [ 0  0  0 ...  0 15  0]\n",
      " [ 0  0  0 ... 15  0  0]\n",
      " [ 0  0  0 ...  0  0 15]]\n"
     ]
    }
   ],
   "source": [
    "observed_values=dataset_table.values\n",
    "print(observed_values)"
   ]
  },
  {
   "cell_type": "code",
   "execution_count": 63,
   "metadata": {},
   "outputs": [],
   "source": [
    "val=stats.chi2_contingency(dataset_table)"
   ]
  },
  {
   "cell_type": "code",
   "execution_count": 64,
   "metadata": {},
   "outputs": [
    {
     "data": {
      "text/plain": [
       "Chi2ContingencyResult(statistic=456750.00000000023, pvalue=0.0, dof=30276, expected_freq=array([[0.08571429, 0.08571429, 0.08571429, ..., 0.08571429, 0.08571429,\n",
       "        0.08571429],\n",
       "       [0.08571429, 0.08571429, 0.08571429, ..., 0.08571429, 0.08571429,\n",
       "        0.08571429],\n",
       "       [0.08571429, 0.08571429, 0.08571429, ..., 0.08571429, 0.08571429,\n",
       "        0.08571429],\n",
       "       ...,\n",
       "       [0.08571429, 0.08571429, 0.08571429, ..., 0.08571429, 0.08571429,\n",
       "        0.08571429],\n",
       "       [0.08571429, 0.08571429, 0.08571429, ..., 0.08571429, 0.08571429,\n",
       "        0.08571429],\n",
       "       [0.08571429, 0.08571429, 0.08571429, ..., 0.08571429, 0.08571429,\n",
       "        0.08571429]]))"
      ]
     },
     "execution_count": 64,
     "metadata": {},
     "output_type": "execute_result"
    }
   ],
   "source": [
    "val"
   ]
  },
  {
   "cell_type": "code",
   "execution_count": 65,
   "metadata": {},
   "outputs": [],
   "source": [
    "expected_values=val[3]\n"
   ]
  },
  {
   "cell_type": "code",
   "execution_count": 66,
   "metadata": {},
   "outputs": [
    {
     "name": "stdout",
     "output_type": "stream",
     "text": [
      "Degree of freedom: 1\n"
     ]
    }
   ],
   "source": [
    "no_of_rows=len(dataset_table.iloc[0:2,0:2])\n",
    "no_of_columns=len(dataset_table.iloc[0:2,0:2])\n",
    "ddof=(no_of_rows-1)*(no_of_columns-1)\n",
    "print(\"Degree of freedom:\",ddof)\n",
    "alpha=0.05"
   ]
  },
  {
   "cell_type": "code",
   "execution_count": 67,
   "metadata": {},
   "outputs": [],
   "source": [
    "from scipy.stats import chi2\n",
    "chi_square=sum([(o-e)**2./e for o,e in zip(observed_values,expected_values)])\n",
    "chi_square_statistic=chi_square[0]+chi_square[1]"
   ]
  },
  {
   "cell_type": "code",
   "execution_count": 68,
   "metadata": {},
   "outputs": [
    {
     "name": "stdout",
     "output_type": "stream",
     "text": [
      "5220.00000000004\n"
     ]
    }
   ],
   "source": [
    "print(chi_square_statistic)"
   ]
  },
  {
   "cell_type": "code",
   "execution_count": 69,
   "metadata": {},
   "outputs": [
    {
     "name": "stdout",
     "output_type": "stream",
     "text": [
      "3.841458820694124\n"
     ]
    }
   ],
   "source": [
    "critical_value=chi2.ppf(q=1-alpha,df=ddof)\n",
    "print(critical_value)"
   ]
  },
  {
   "cell_type": "code",
   "execution_count": 70,
   "metadata": {},
   "outputs": [
    {
     "name": "stdout",
     "output_type": "stream",
     "text": [
      "p_value: 0.0\n",
      "Significance level:  0.05\n",
      "Degree of Freedom:  1\n",
      "p-value:  0.0\n"
     ]
    }
   ],
   "source": [
    "p_value=1-chi2.cdf(x=chi_square_statistic,df=ddof)\n",
    "print(\"p_value:\",p_value)\n",
    "print(\"Significance level: \",alpha)\n",
    "print(\"Degree of Freedom: \",ddof)\n",
    "print(\"p-value: \",p_value)\n",
    "\n"
   ]
  },
  {
   "cell_type": "code",
   "execution_count": 73,
   "metadata": {},
   "outputs": [
    {
     "name": "stdout",
     "output_type": "stream",
     "text": [
      "Reject H0,There is a relationship between the number of shares traded and turnover\n",
      "Reject H0,There is a relationship between the number of shares traded and turnover\n"
     ]
    }
   ],
   "source": [
    "if chi_square_statistic>=critical_value:\n",
    "    print(\"Reject H0,There is a relationship between the number of shares traded and turnover\")\n",
    "else:\n",
    "    print(\"Retain H0,There is no relationship between the number of shares traded and turnover\")\n",
    "if p_value<=alpha:\n",
    "    print(\"Reject H0,There is a relationship between the number of shares traded and turnover\")\n",
    "else:\n",
    "    print(\"Retain H0,There is no relationship between the number of shares traded\")"
   ]
  }
 ],
 "metadata": {
  "kernelspec": {
   "display_name": "Python 3",
   "language": "python",
   "name": "python3"
  },
  "language_info": {
   "codemirror_mode": {
    "name": "ipython",
    "version": 3
   },
   "file_extension": ".py",
   "mimetype": "text/x-python",
   "name": "python",
   "nbconvert_exporter": "python",
   "pygments_lexer": "ipython3",
   "version": "3.9.6"
  },
  "orig_nbformat": 4
 },
 "nbformat": 4,
 "nbformat_minor": 2
}
